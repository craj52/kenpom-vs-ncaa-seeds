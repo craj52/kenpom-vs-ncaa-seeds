{
 "cells": [
  {
   "cell_type": "code",
   "execution_count": 33,
   "id": "bb1edb2c-0bc8-4657-9bcf-c6932924a7cf",
   "metadata": {},
   "outputs": [
    {
     "name": "stdout",
     "output_type": "stream",
     "text": [
      "Loaded 630 tournament games\n",
      "Loaded 3561 KenPom team entries\n"
     ]
    }
   ],
   "source": [
    "import pandas as pd\n",
    "import os\n",
    "\n",
    "# Folders containing tournament results and KenPom data\n",
    "results_folder = \"data/results\"\n",
    "kenpom_folder = \"data/kenpom\"\n",
    "\n",
    "results_data = []\n",
    "kenpom_data = []\n",
    "\n",
    "# Load all tournament results and tag with the year\n",
    "for file in os.listdir(results_folder):\n",
    "    if file.endswith(\".csv\"):\n",
    "        year = int(file.split(\"_\")[0])\n",
    "        df = pd.read_csv(os.path.join(results_folder, file))\n",
    "        df[\"Year\"] = year\n",
    "        results_data.append(df)\n",
    "\n",
    "# Load all KenPom files and tag with the year\n",
    "for file in os.listdir(kenpom_folder):\n",
    "    if file.endswith(\".csv\"):\n",
    "        year = int(file.split(\"_\")[0])\n",
    "        df = pd.read_csv(os.path.join(kenpom_folder, file))\n",
    "        df[\"Year\"] = year\n",
    "        kenpom_data.append(df)\n",
    "\n",
    "# Combine all years into single DataFrames\n",
    "all_results = pd.concat(results_data, ignore_index=True)\n",
    "all_kenpom = pd.concat(kenpom_data, ignore_index=True)\n",
    "\n",
    "print(f\"Loaded {all_results.shape[0]} tournament games\")\n",
    "print(f\"Loaded {all_kenpom.shape[0]} KenPom team entries\")"
   ]
  },
  {
   "cell_type": "code",
   "execution_count": 34,
   "id": "25402886-7718-4193-8ccc-4529dfdddf7e",
   "metadata": {},
   "outputs": [],
   "source": [
    "kenpom_clean = all_kenpom[[\"TeamName\", \"AdjEM\", \"seed\", \"Year\"]].copy()"
   ]
  },
  {
   "cell_type": "code",
   "execution_count": 44,
   "id": "8eaa3233-5511-48b1-baa2-d843d8a79cc7",
   "metadata": {},
   "outputs": [
    {
     "name": "stdout",
     "output_type": "stream",
     "text": [
      "Team name standardization applied.\n"
     ]
    }
   ],
   "source": [
    "# Standardize team names to ensure consistency between tournament results and KenPom data\n",
    "team_name_fixes = {\n",
    "    \"Michigan State\": \"Michigan St.\",\n",
    "    \"Ohio State\": \"Ohio St.\",\n",
    "    \"Iowa State\": \"Iowa St.\",\n",
    "    \"Kansas State\": \"Kansas St.\",\n",
    "    \"Oregon State\": \"Oregon St.\",\n",
    "    \"Utah State\": \"Utah St.\",\n",
    "    \"Colorado State\": \"Colorado St.\",\n",
    "    \"New Mexico State\": \"New Mexico St.\",\n",
    "    \"North Dakota State\": \"North Dakota St.\",\n",
    "    \"South Dakota State\": \"South Dakota St.\",\n",
    "    \"East Tennessee State\": \"East Tenn. St.\",\n",
    "    \"Mississippi State\": \"Mississippi St.\",\n",
    "    \"Arizona State\": \"Arizona St.\",\n",
    "    \"Washington State\": \"Washington St.\",\n",
    "    \"Weber State\": \"Weber St.\",\n",
    "    \"Fresno State\": \"Fresno St.\",\n",
    "    \"Kent State\": \"Kent St.\",\n",
    "    \"Norfolk State\": \"Norfolk St.\",\n",
    "    \"Morehead State\": \"Morehead St.\",\n",
    "    \"Jacksonville State\": \"Jacksonville St.\",\n",
    "    \"Alabama State\": \"Alabama St.\",\n",
    "    \"Gardner-Webb\": \"Gardner Webb\",\n",
    "    \"Long Beach State\": \"LBSU\",\n",
    "    \"Col of Charleston\": \"Charleston\",\n",
    "    \"Texas A&M-CC\": \"Texas A&M Corpus Chris\",\n",
    "    \"North Kentucky\": \"Northern Kentucky\",\n",
    "    \"Eastern Wash.\": \"Eastern Washington\",\n",
    "    \"Southern California\": \"USC\",\n",
    "    \"Miami (Fla.)\": \"Miami FL\",\n",
    "    \"Miami (FL)\": \"Miami FL\",\n",
    "    \"Saint Mary’s\": \"Saint Mary's\",\n",
    "    \"St. Mary’s\": \"Saint Mary's\",\n",
    "    \"St. Peter’s\": \"Saint Peter's\",\n",
    "    \"UConn\": \"Connecticut\",\n",
    "    \"Ole Miss\": \"Mississippi\",\n",
    "    \"FAU\": \"Florida Atlantic\",\n",
    "    \"FDU\": \"Fairleigh Dickinson\",\n",
    "    \"Hawai'i\": \"Hawaii\",\n",
    "    \"Cal State Bakersfield\": \"CSU Bakersfield\",\n",
    "    \"Cal State Fullerton\": \"CSU Fullerton\",\n",
    "    \"S. Dakota St.\": \"South Dakota St.\",\n",
    "    \"Grambling State\": \"Grambling\",\n",
    "    \"McNeese\": \"McNeese St.\",\n",
    "    \"SIU Edwardsville\": \"SIU Edwards.\",\n",
    "    \"Omaha\": \"Nebraska Omaha\",\n",
    "    \"Wichita State\": \"Wichita St.\",\n",
    "    \"Georgia State\": \"Georgia St.\",\n",
    "    \"NC State\": \"N.C. State\",\n",
    "    \"San Diego State\": \"San Diego St.\",\n",
    "    \"Little Rock\": \"Arkansas Little Rock\",\n",
    "    \"Florida State\": \"Florida St.\",\n",
    "    \"Murray State\": \"Murray St.\",\n",
    "    \"Pitt\": \"Pittsburgh\",\n",
    "    \"Oklahoma State\": \"Oklahoma St.\",\n",
    "    \"CSU Bakersfield\": \"Cal St. Bakersfield\",\n",
    "    \"East Tenn. St.\": \"East Tennessee St.\",\n",
    "    \"CSU Fullerton\": \"Cal St. Fullerton\",\n",
    "    \"Wright State\": \"Wright St.\",\n",
    "    \"Pennsylvania\": \"Penn\",\n",
    "    \"UCSB\": \"UC Santa Barbara\",\n",
    "    \"LBSU\": \"Long Beach St.\",\n",
    "    \"Grambling\": \"Grambling St.\",\n",
    "    \"SIU Edwards.\": \"SIU Edwardsville\"\n",
    "}\n",
    "\n",
    "all_results[\"Team_1\"] = all_results[\"Team_1\"].replace(team_name_fixes)\n",
    "all_results[\"Team_2\"] = all_results[\"Team_2\"].replace(team_name_fixes)\n",
    "\n",
    "print(\"Team name standardization applied.\")"
   ]
  },
  {
   "cell_type": "code",
   "execution_count": 45,
   "id": "6eb70b3a-f7ce-4abe-a5ae-88e85e830d8d",
   "metadata": {},
   "outputs": [
    {
     "name": "stdout",
     "output_type": "stream",
     "text": [
      "Year-specific naming fixes applied.\n"
     ]
    }
   ],
   "source": [
    "# Handle special cases where team naming changed for specific years\n",
    "\n",
    "# NC State in 2015 & 2018 should match KenPom as \"North Carolina St.\"\n",
    "mask_old_nc = (all_results[\"Year\"].isin([2015, 2018]))\n",
    "all_results.loc[mask_old_nc & (all_results[\"Team_1\"] == \"N.C. State\"), \"Team_1\"] = \"North Carolina St.\"\n",
    "all_results.loc[mask_old_nc & (all_results[\"Team_2\"] == \"N.C. State\"), \"Team_2\"] = \"North Carolina St.\"\n",
    "\n",
    "# McNeese in 2024 should match KenPom as \"McNeese St.\"\n",
    "mask_mc_2024 = (all_results[\"Year\"] == 2024)\n",
    "all_results.loc[mask_mc_2024 & (all_results[\"Team_1\"] == \"McNeese\"), \"Team_1\"] = \"McNeese St.\"\n",
    "all_results.loc[mask_mc_2024 & (all_results[\"Team_2\"] == \"McNeese\"), \"Team_2\"] = \"McNeese St.\"\n",
    "\n",
    "# SIUE and McNeese in 2025 need updated tournament naming\n",
    "mask_siu_2025 = (all_results[\"Year\"] == 2025)\n",
    "all_results.loc[mask_siu_2025 & (all_results[\"Team_1\"] == \"SIU Edwardsville\"), \"Team_1\"] = \"SIUE\"\n",
    "all_results.loc[mask_siu_2025 & (all_results[\"Team_2\"] == \"SIU Edwardsville\"), \"Team_2\"] = \"SIUE\"\n",
    "all_results.loc[mask_siu_2025 & (all_results[\"Team_1\"] == \"McNeese St.\"), \"Team_1\"] = \"McNeese\"\n",
    "all_results.loc[mask_siu_2025 & (all_results[\"Team_2\"] == \"McNeese St.\"), \"Team_2\"] = \"McNeese\"\n",
    "\n",
    "print(\"Year-specific naming fixes applied.\")"
   ]
  },
  {
   "cell_type": "code",
   "execution_count": 46,
   "id": "ea098384-16df-4353-b4ab-5944148ed43c",
   "metadata": {},
   "outputs": [
    {
     "name": "stdout",
     "output_type": "stream",
     "text": [
      "Columns after merge: ['Year', 'Round', 'Team_1', 'Team_2', 'Winner', 'AdjEM_1', 'Seed_1', 'AdjEM_2', 'Seed_2']\n",
      "Sample rows:\n",
      "     Year        Round          Team_1        Team_2          Winner  AdjEM_1  \\\n",
      "299  2019  Round of 32          Auburn        Kansas          Auburn  23.3317   \n",
      "502  2023   Final Four     Connecticut      Miami FL           UConn  25.3686   \n",
      "550  2024  Round of 32       Creighton        Oregon       Creighton  23.3993   \n",
      "179  2017     Sweet 16        Kentucky          UCLA        Kentucky  27.2664   \n",
      "316  2021  Round of 64  Loyola Chicago  Georgia Tech  Loyola Chicago  23.7539   \n",
      "\n",
      "     Seed_1  AdjEM_2  Seed_2  \n",
      "299     5.0  20.7051     4.0  \n",
      "502     4.0  14.9148     5.0  \n",
      "550     3.0  13.4292    11.0  \n",
      "179     2.0  22.9515     3.0  \n",
      "316     8.0  18.5494     9.0  \n",
      "Games missing seeds: 0\n"
     ]
    }
   ],
   "source": [
    "# Keep only seeded teams (tournament teams) from KenPom\n",
    "kenpom_tourney = kenpom_clean.dropna(subset=[\"seed\"])\n",
    "\n",
    "# Merge KenPom data for Team_1\n",
    "merged_df = all_results.merge(\n",
    "    kenpom_tourney.rename(columns={\"TeamName\": \"Team_1\", \"AdjEM\": \"AdjEM_1\", \"seed\": \"Seed_1\"}),\n",
    "    how=\"left\",\n",
    "    on=[\"Team_1\", \"Year\"]\n",
    ")\n",
    "\n",
    "# Merge KenPom data for Team_2\n",
    "merged_df = merged_df.merge(\n",
    "    kenpom_tourney.rename(columns={\"TeamName\": \"Team_2\", \"AdjEM\": \"AdjEM_2\", \"seed\": \"Seed_2\"}),\n",
    "    how=\"left\",\n",
    "    on=[\"Team_2\", \"Year\"]\n",
    ")\n",
    "\n",
    "# Remove any leftover duplicate columns (_x/_y from merges)\n",
    "merged_df = merged_df.rename(columns={\n",
    "    \"Seed_1_y\": \"Seed_1\",\n",
    "    \"Seed_2_y\": \"Seed_2\"\n",
    "}).drop(columns=[\"Seed_1_x\", \"Seed_2_x\"], errors=\"ignore\")\n",
    "\n",
    "# Quick verification\n",
    "print(\"Columns after merge:\", merged_df.columns.tolist())\n",
    "print(\"Sample rows:\")\n",
    "print(merged_df.sample(5))\n",
    "\n",
    "# Check if any games are still missing seeds after cleaning\n",
    "missing_seeds = merged_df[merged_df[\"Seed_1\"].isna() | merged_df[\"Seed_2\"].isna()]\n",
    "print(\"Games missing seeds:\", missing_seeds.shape[0])"
   ]
  },
  {
   "cell_type": "code",
   "execution_count": 47,
   "id": "3134f6c3-5718-4392-8dfd-8cbeb844859a",
   "metadata": {},
   "outputs": [],
   "source": [
    "# Predict winners using two methods:\n",
    "# - KenPom: team with higher AdjEM\n",
    "# - Seed: team with lower (better) NCAA seed\n",
    "\n",
    "merged_df[\"kenpom_pred\"] = merged_df.apply(\n",
    "    lambda row: row[\"Team_1\"] if row[\"AdjEM_1\"] > row[\"AdjEM_2\"] else row[\"Team_2\"],\n",
    "    axis=1\n",
    ")\n",
    "\n",
    "merged_df[\"seed_pred\"] = merged_df.apply(\n",
    "    lambda row: row[\"Team_1\"] if row[\"Seed_1\"] < row[\"Seed_2\"] else row[\"Team_2\"],\n",
    "    axis=1\n",
    ")\n",
    "\n",
    "# Flag games where KenPom and seeding disagreed\n",
    "merged_df[\"methods_disagree\"] = merged_df[\"kenpom_pred\"] != merged_df[\"seed_pred\"]"
   ]
  },
  {
   "cell_type": "code",
   "execution_count": 48,
   "id": "73cbcf82-a5f6-4816-8e3b-b60ca3951fc4",
   "metadata": {},
   "outputs": [
    {
     "name": "stdout",
     "output_type": "stream",
     "text": [
      "Total disagreement games: 59\n"
     ]
    }
   ],
   "source": [
    "# Filter to only games where KenPom and NCAA seeds disagreed\n",
    "disagreement_games = merged_df[merged_df[\"methods_disagree\"]]\n",
    "\n",
    "# Show how many disagreement games occurred\n",
    "print(\"Total disagreement games:\", disagreement_games.shape[0])"
   ]
  },
  {
   "cell_type": "code",
   "execution_count": 49,
   "id": "6a8e4c45-8b2b-4619-a656-b9fadb734c08",
   "metadata": {},
   "outputs": [
    {
     "name": "stdout",
     "output_type": "stream",
     "text": [
      "KenPom correct: 26/59 (44.1%)\n",
      "Seed correct:   22/59 (37.3%)\n"
     ]
    }
   ],
   "source": [
    "# Evaluate who was correct in disagreement games\n",
    "disagreement_games = disagreement_games.copy()  # avoid SettingWithCopyWarning\n",
    "\n",
    "# Add correctness flags\n",
    "disagreement_games[\"kenpom_correct\"] = disagreement_games[\"kenpom_pred\"] == disagreement_games[\"Winner\"]\n",
    "disagreement_games[\"seed_correct\"]   = disagreement_games[\"seed_pred\"]   == disagreement_games[\"Winner\"]\n",
    "\n",
    "# Count totals\n",
    "total_disagreements = len(disagreement_games)\n",
    "kenpom_right = disagreement_games[\"kenpom_correct\"].sum()\n",
    "seed_right   = disagreement_games[\"seed_correct\"].sum()\n",
    "\n",
    "print(f\"KenPom correct: {kenpom_right}/{total_disagreements} ({kenpom_right/total_disagreements:.1%})\")\n",
    "print(f\"Seed correct:   {seed_right}/{total_disagreements} ({seed_right/total_disagreements:.1%})\")"
   ]
  },
  {
   "cell_type": "code",
   "execution_count": 50,
   "id": "1c1a356a-e70f-422c-bc82-36b15e58bd78",
   "metadata": {},
   "outputs": [
    {
     "name": "stdout",
     "output_type": "stream",
     "text": [
      "   Method  Correct Picks  Total Disagreements  Accuracy\n",
      "0  KenPom             26                   59     0.441\n",
      "1    Seed             22                   59     0.373\n"
     ]
    }
   ],
   "source": [
    "# Build a summary table comparing KenPom vs Seeds\n",
    "summary = pd.DataFrame({\n",
    "    \"Method\": [\"KenPom\", \"Seed\"],\n",
    "    \"Correct Picks\": [kenpom_right, seed_right],\n",
    "    \"Total Disagreements\": [total_disagreements, total_disagreements],\n",
    "    \"Accuracy\": [\n",
    "        round(kenpom_right / total_disagreements, 3),\n",
    "        round(seed_right / total_disagreements, 3)\n",
    "    ]\n",
    "})\n",
    "\n",
    "print(summary)"
   ]
  },
  {
   "cell_type": "code",
   "execution_count": 51,
   "id": "0714fa40-39c3-4f71-b92c-dd0b312c3520",
   "metadata": {},
   "outputs": [
    {
     "data": {
      "image/png": "[encoded data removed]",
      "text/plain": [
       "<Figure size 600x400 with 1 Axes>"
      ]
     },
     "metadata": {},
     "output_type": "display_data"
    }
   ],
   "source": [
    "import matplotlib.pyplot as plt\n",
    "\n",
    "# Bar chart: Accuracy when KenPom vs. Seeds disagree\n",
    "ax = summary.plot(\n",
    "    kind=\"bar\",\n",
    "    x=\"Method\",\n",
    "    y=\"Accuracy\",\n",
    "    legend=False,\n",
    "    rot=0,\n",
    "    color=[\"#1f77b4\", \"#ff7f0e\"],  # optional colors\n",
    "    figsize=(6,4)\n",
    ")\n",
    "\n",
    "plt.title(\"Accuracy When KenPom vs. Seeds Disagree\")\n",
    "plt.ylabel(\"Accuracy (%)\")\n",
    "plt.ylim(0, 1)  # keep scale 0–1 for clarity\n",
    "plt.grid(axis=\"y\", linestyle=\"--\", alpha=0.7)\n",
    "\n",
    "# Add text labels above bars\n",
    "for p in ax.patches:\n",
    "    ax.annotate(f\"{p.get_height():.1%}\",\n",
    "                (p.get_x() + p.get_width() / 2, p.get_height()),\n",
    "                ha=\"center\", va=\"bottom\", fontsize=10)\n",
    "\n",
    "plt.show()"
   ]
  },
  {
   "cell_type": "code",
   "execution_count": 52,
   "id": "5123560e-0fd6-4629-b8a3-c3cf1e7647a7",
   "metadata": {},
   "outputs": [
    {
     "name": "stdout",
     "output_type": "stream",
     "text": [
      "KenPom correct, Seeds wrong (first 10):\n",
      "     Year        Round         Team_1      Team_2         Winner  \\\n",
      "35   2015  Round of 32  West Virginia    Maryland  West Virginia   \n",
      "47   2015  Round of 32           Utah  Georgetown           Utah   \n",
      "77   2016  Round of 64            VCU  Oregon St.            VCU   \n",
      "92   2016  Round of 64        Gonzaga  Seton Hall        Gonzaga   \n",
      "93   2016  Round of 64       Syracuse      Dayton       Syracuse   \n",
      "94   2016  Round of 64         Butler  Texas Tech         Butler   \n",
      "108  2016  Round of 32        Gonzaga        Utah        Gonzaga   \n",
      "120  2016  Elite Eight       Oklahoma      Oregon       Oklahoma   \n",
      "124  2016   Final Four      Villanova    Oklahoma      Villanova   \n",
      "139  2017  Round of 64         Xavier    Maryland         Xavier   \n",
      "\n",
      "       kenpom_pred   seed_pred  \n",
      "35   West Virginia    Maryland  \n",
      "47            Utah  Georgetown  \n",
      "77             VCU  Oregon St.  \n",
      "92         Gonzaga  Seton Hall  \n",
      "93        Syracuse      Dayton  \n",
      "94          Butler  Texas Tech  \n",
      "108        Gonzaga        Utah  \n",
      "120       Oklahoma      Oregon  \n",
      "124      Villanova    Oklahoma  \n",
      "139         Xavier    Maryland  \n",
      "\n",
      "Seeds correct, KenPom wrong (first 10):\n",
      "     Year        Round          Team_1         Team_2          Winner  \\\n",
      "5    2015  Round of 64          Butler          Texas          Butler   \n",
      "15   2015  Round of 64          Oregon   Oklahoma St.          Oregon   \n",
      "43   2015  Round of 32      Louisville  Northern Iowa      Louisville   \n",
      "78   2016  Round of 64  Saint Joseph's     Cincinnati  Saint Joseph's   \n",
      "112  2016     Sweet 16      Notre Dame      Wisconsin      Notre Dame   \n",
      "118  2016     Sweet 16        Syracuse        Gonzaga        Syracuse   \n",
      "132  2017  Round of 64  South Carolina      Marquette  South Carolina   \n",
      "141  2017  Round of 64    Northwestern     Vanderbilt    Northwestern   \n",
      "161  2017  Round of 32         Florida       Virginia         Florida   \n",
      "163  2017  Round of 32         Arizona   Saint Mary's         Arizona   \n",
      "\n",
      "       kenpom_pred       seed_pred  \n",
      "5            Texas          Butler  \n",
      "15    Oklahoma St.          Oregon  \n",
      "43   Northern Iowa      Louisville  \n",
      "78      Cincinnati  Saint Joseph's  \n",
      "112      Wisconsin      Notre Dame  \n",
      "118        Gonzaga        Syracuse  \n",
      "132      Marquette  South Carolina  \n",
      "141     Vanderbilt    Northwestern  \n",
      "161       Virginia         Florida  \n",
      "163   Saint Mary's         Arizona  \n"
     ]
    }
   ],
   "source": [
    "# Identify notable disagreement outcomes\n",
    "kenpom_wins = disagreement_games[\n",
    "    (disagreement_games[\"kenpom_correct\"]) & (~disagreement_games[\"seed_correct\"])\n",
    "][[\"Year\", \"Round\", \"Team_1\", \"Team_2\", \"Winner\", \"kenpom_pred\", \"seed_pred\"]]\n",
    "\n",
    "seed_wins = disagreement_games[\n",
    "    (~disagreement_games[\"kenpom_correct\"]) & (disagreement_games[\"seed_correct\"])\n",
    "][[\"Year\", \"Round\", \"Team_1\", \"Team_2\", \"Winner\", \"kenpom_pred\", \"seed_pred\"]]\n",
    "\n",
    "print(\"KenPom correct, Seeds wrong (first 10):\")\n",
    "print(kenpom_wins.head(10))\n",
    "\n",
    "print(\"\\nSeeds correct, KenPom wrong (first 10):\")\n",
    "print(seed_wins.head(10))"
   ]
  }
 ],
 "metadata": {
  "kernelspec": {
   "display_name": "Python 3 (ipykernel)",
   "language": "python",
   "name": "python3"
  },
  "language_info": {
   "codemirror_mode": {
    "name": "ipython",
    "version": 3
   },
   "file_extension": ".py",
   "mimetype": "text/x-python",
   "name": "python",
   "nbconvert_exporter": "python",
   "pygments_lexer": "ipython3",
   "version": "3.13.5"
  }
 },
 "nbformat": 4,
 "nbformat_minor": 5
}
