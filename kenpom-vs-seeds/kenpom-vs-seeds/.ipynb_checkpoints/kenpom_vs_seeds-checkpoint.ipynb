{
 "cells": [
  {
   "cell_type": "code",
   "execution_count": 2,
   "id": "c69c4066-947f-415f-92a4-879711b3e27d",
   "metadata": {},
   "outputs": [
    {
     "name": "stdout",
     "output_type": "stream",
     "text": [
      "✅ Results shape: (630, 7)\n",
      "✅ KenPom shape: (3561, 18)\n"
     ]
    }
   ],
   "source": [
    "import pandas as pd\n",
    "import os\n",
    "\n",
    "# Define folders\n",
    "results_folder = \"data/results\"\n",
    "kenpom_folder = \"data/kenpom\"\n",
    "\n",
    "results_data = []\n",
    "kenpom_data = []\n",
    "\n",
    "# Load results\n",
    "for file in os.listdir(results_folder):\n",
    "    if file.endswith(\".csv\"):\n",
    "        year = int(file.split(\"_\")[0])\n",
    "        df = pd.read_csv(os.path.join(results_folder, file))\n",
    "        df[\"Year\"] = year\n",
    "        results_data.append(df)\n",
    "\n",
    "# Load kenpom\n",
    "for file in os.listdir(kenpom_folder):\n",
    "    if file.endswith(\".csv\"):\n",
    "        year = int(file.split(\"_\")[0])\n",
    "        df = pd.read_csv(os.path.join(kenpom_folder, file))\n",
    "        df[\"Year\"] = year\n",
    "        kenpom_data.append(df)\n",
    "\n",
    "# Combine all years\n",
    "all_results = pd.concat(results_data, ignore_index=True)\n",
    "all_kenpom = pd.concat(kenpom_data, ignore_index=True)\n",
    "\n",
    "print(\"✅ Results shape:\", all_results.shape)\n",
    "print(\"✅ KenPom shape:\", all_kenpom.shape)"
   ]
  },
  {
   "cell_type": "code",
   "execution_count": 3,
   "id": "cbb4900a-d695-4142-a8db-76586b19888c",
   "metadata": {},
   "outputs": [],
   "source": [
    "kenpom_clean = all_kenpom[[\"TeamName\", \"AdjEM\", \"seed\", \"Year\"]].copy()"
   ]
  },
  {
   "cell_type": "code",
   "execution_count": 4,
   "id": "f610ad6e-cf85-47e1-99c0-9a0522254536",
   "metadata": {},
   "outputs": [
    {
     "name": "stdout",
     "output_type": "stream",
     "text": [
      "Columns after merge: ['Year', 'Round', 'Team_1', 'Team_2', 'Winner', 'AdjEM_1', 'Seed_1', 'AdjEM_2', 'Seed_2']\n",
      "     Year        Round          Team_1             Team_2          Winner  \\\n",
      "95   2016  Round of 32  North Carolina         Providence  North Carolina   \n",
      "47   2015  Round of 32            Utah         Georgetown            Utah   \n",
      "111  2016     Sweet 16  North Carolina            Indiana  North Carolina   \n",
      "158  2017  Round of 32       Wisconsin          Villanova       Wisconsin   \n",
      "143  2017  Round of 64        Kentucky  Northern Kentucky        Kentucky   \n",
      "\n",
      "     AdjEM_1  Seed_1   AdjEM_2  Seed_2  \n",
      "95   28.0379     1.0  13.59320     9.0  \n",
      "47   26.9035     5.0  19.56940     4.0  \n",
      "111  28.0379     1.0  22.79570     5.0  \n",
      "158  22.2926     8.0  30.77720     1.0  \n",
      "143  27.2664     2.0   1.33605    15.0  \n",
      "Games missing seeds: 183\n"
     ]
    }
   ],
   "source": [
    "# ✅ 1. Filter to tournament teams only\n",
    "kenpom_tourney = kenpom_clean.dropna(subset=[\"seed\"])\n",
    "\n",
    "# ✅ 2. Merge KenPom for Team_1\n",
    "merged_df = all_results.merge(\n",
    "    kenpom_tourney.rename(\n",
    "        columns={\"TeamName\": \"Team_1\", \"AdjEM\": \"AdjEM_1\", \"seed\": \"Seed_1\"}\n",
    "    ),\n",
    "    how=\"left\",\n",
    "    on=[\"Team_1\", \"Year\"]\n",
    ")\n",
    "\n",
    "# ✅ 3. Merge KenPom for Team_2\n",
    "merged_df = merged_df.merge(\n",
    "    kenpom_tourney.rename(\n",
    "        columns={\"TeamName\": \"Team_2\", \"AdjEM\": \"AdjEM_2\", \"seed\": \"Seed_2\"}\n",
    "    ),\n",
    "    how=\"left\",\n",
    "    on=[\"Team_2\", \"Year\"]\n",
    ")\n",
    "\n",
    "# ✅ 4. Fix duplicate columns (_x from results CSV, _y from KenPom)\n",
    "merged_df = merged_df.rename(columns={\n",
    "    \"Seed_1_y\": \"Seed_1\",\n",
    "    \"Seed_2_y\": \"Seed_2\"\n",
    "}).drop(columns=[\"Seed_1_x\", \"Seed_2_x\"], errors=\"ignore\")\n",
    "\n",
    "# ✅ 5. Quick verification\n",
    "print(\"Columns after merge:\", merged_df.columns.tolist())\n",
    "print(merged_df.sample(5))\n",
    "\n",
    "# ✅ 6. Check for any missing seeds\n",
    "missing_seeds = merged_df[merged_df[\"Seed_1\"].isna() | merged_df[\"Seed_2\"].isna()]\n",
    "print(\"Games missing seeds:\", missing_seeds.shape[0])"
   ]
  },
  {
   "cell_type": "code",
   "execution_count": 5,
   "id": "759b6730-c92e-4720-8216-15d5638ef4c0",
   "metadata": {},
   "outputs": [
    {
     "name": "stdout",
     "output_type": "stream",
     "text": [
      "Teams with missing seeds:\n",
      "['Wichita State' 'Georgia State' 'Ohio State' 'Michigan State' 'NC State'\n",
      " 'San Diego State' 'Miami (Fla.)' \"Hawai'i\" 'UConn' 'Iowa State'\n",
      " 'Little Rock' 'Southern California' 'Florida State' 'Kansas State'\n",
      " 'Murray State' 'Miami (FL)' 'Saint Mary’s' 'St. Peter’s' 'Pitt'\n",
      " 'St. Mary’s' 'FDU' 'FAU' 'Washington State' 'Utah State' 'Colorado State'\n",
      " 'Ole Miss' 'New Mexico State' 'Oklahoma State' 'North Dakota State'\n",
      " 'Weber State' 'Cal State Bakersfield' 'Oregon State' 'South Dakota State'\n",
      " 'Fresno State' 'East Tennessee State' 'Kent State' 'Jacksonville State'\n",
      " 'Cal State Fullerton' 'Wright State' 'Pennsylvania' 'Mississippi State'\n",
      " 'Arizona State' 'Gardner-Webb' 'UCSB' 'Eastern Wash.' 'S. Dakota St.'\n",
      " 'North Kentucky' 'Texas A&M-CC' 'Col of Charleston' 'Morehead State'\n",
      " 'Long Beach State' 'Grambling State' 'McNeese' 'SIU Edwardsville'\n",
      " 'Alabama State' 'Omaha' 'Norfolk State']\n"
     ]
    }
   ],
   "source": [
    "missing_teams = pd.concat([\n",
    "    merged_df.loc[merged_df[\"Seed_1\"].isna(), \"Team_1\"],\n",
    "    merged_df.loc[merged_df[\"Seed_2\"].isna(), \"Team_2\"]\n",
    "]).unique()\n",
    "\n",
    "print(\"Teams with missing seeds:\")\n",
    "print(missing_teams)"
   ]
  },
  {
   "cell_type": "code",
   "execution_count": 6,
   "id": "7f46d334-6e92-4c31-9788-199d82c17872",
   "metadata": {},
   "outputs": [
    {
     "name": "stdout",
     "output_type": "stream",
     "text": [
      "✅ Team name fixes applied.\n"
     ]
    }
   ],
   "source": [
    "# ✅ Dictionary of name fixes to match KenPom naming\n",
    "team_name_fixes = {\n",
    "    \"Michigan State\": \"Michigan St.\",\n",
    "    \"Ohio State\": \"Ohio St.\",\n",
    "    \"Iowa State\": \"Iowa St.\",\n",
    "    \"Kansas State\": \"Kansas St.\",\n",
    "    \"Oregon State\": \"Oregon St.\",\n",
    "    \"Utah State\": \"Utah St.\",\n",
    "    \"Colorado State\": \"Colorado St.\",\n",
    "    \"New Mexico State\": \"New Mexico St.\",\n",
    "    \"North Dakota State\": \"North Dakota St.\",\n",
    "    \"South Dakota State\": \"South Dakota St.\",\n",
    "    \"East Tennessee State\": \"East Tenn. St.\",\n",
    "    \"Mississippi State\": \"Mississippi St.\",\n",
    "    \"Arizona State\": \"Arizona St.\",\n",
    "    \"Washington State\": \"Washington St.\",\n",
    "    \"Weber State\": \"Weber St.\",\n",
    "    \"Fresno State\": \"Fresno St.\",\n",
    "    \"Kent State\": \"Kent St.\",\n",
    "    \"Norfolk State\": \"Norfolk St.\",\n",
    "    \"Morehead State\": \"Morehead St.\",\n",
    "    \"Jacksonville State\": \"Jacksonville St.\",\n",
    "    \"Alabama State\": \"Alabama St.\",\n",
    "    \"Gardner-Webb\": \"Gardner Webb\",\n",
    "    \"Long Beach State\": \"LBSU\",\n",
    "    \"Col of Charleston\": \"Charleston\",\n",
    "    \"Texas A&M-CC\": \"Texas A&M Corpus Chris\",\n",
    "    \"North Kentucky\": \"Northern Kentucky\",\n",
    "    \"Eastern Wash.\": \"Eastern Washington\",\n",
    "    \"Southern California\": \"USC\",\n",
    "    \"Miami (Fla.)\": \"Miami FL\",\n",
    "    \"Miami (FL)\": \"Miami FL\",\n",
    "    \"Saint Mary’s\": \"Saint Mary's\",\n",
    "    \"St. Mary’s\": \"Saint Mary's\",\n",
    "    \"St. Peter’s\": \"Saint Peter's\",\n",
    "    \"UConn\": \"Connecticut\",\n",
    "    \"Ole Miss\": \"Mississippi\",\n",
    "    \"FAU\": \"Florida Atlantic\",\n",
    "    \"FDU\": \"Fairleigh Dickinson\",\n",
    "    \"Hawai'i\": \"Hawaii\",\n",
    "    \"Cal State Bakersfield\": \"CSU Bakersfield\",\n",
    "    \"Cal State Fullerton\": \"CSU Fullerton\",\n",
    "    \"S. Dakota St.\": \"South Dakota St.\",\n",
    "    \"Grambling State\": \"Grambling\",\n",
    "    \"McNeese\": \"McNeese St.\",\n",
    "    \"SIU Edwardsville\": \"SIU Edwards.\",\n",
    "    \"Omaha\": \"Nebraska Omaha\",\n",
    "\n",
    "    # ✅ FINAL verified additions:\n",
    "    \"Wichita State\": \"Wichita St.\",\n",
    "    \"Georgia State\": \"Georgia St.\",\n",
    "    \"NC State\": \"N.C. State\",\n",
    "    \"San Diego State\": \"San Diego St.\",\n",
    "    \"Little Rock\": \"Arkansas Little Rock\",\n",
    "    \"Florida State\": \"Florida St.\",\n",
    "    \"Murray State\": \"Murray St.\",\n",
    "    \"Pitt\": \"Pittsburgh\",\n",
    "    \"Oklahoma State\": \"Oklahoma St.\",\n",
    "    \"CSU Bakersfield\": \"Cal St. Bakersfield\",\n",
    "    \"East Tenn. St.\": \"East Tennessee St.\",\n",
    "    \"CSU Fullerton\": \"Cal St. Fullerton\",\n",
    "    \"Wright State\": \"Wright St.\",\n",
    "    \"Pennsylvania\": \"Penn\",\n",
    "    \"UCSB\": \"UC Santa Barbara\",\n",
    "    \"LBSU\": \"Long Beach St.\",\n",
    "    \"Grambling\": \"Grambling St.\",\n",
    "    \"SIU Edwards.\": \"SIU Edwardsville\"\n",
    "}\n",
    "\n",
    "# ✅ Apply mapping to both team columns in all_results\n",
    "all_results[\"Team_1\"] = all_results[\"Team_1\"].replace(team_name_fixes)\n",
    "all_results[\"Team_2\"] = all_results[\"Team_2\"].replace(team_name_fixes)\n",
    "\n",
    "print(\"✅ Team name fixes applied.\")\n"
   ]
  },
  {
   "cell_type": "code",
   "execution_count": 7,
   "id": "7e95b015-426e-4aa5-b3ab-8a83be6e914b",
   "metadata": {},
   "outputs": [
    {
     "name": "stdout",
     "output_type": "stream",
     "text": [
      "N.C. State → ['N.C. State']\n",
      "McNeese St. → ['McNeese St.', 'McNeese', 'Tennessee St.']\n",
      "SIU Edwardsville → ['SIU Edwardsville', 'Evansville']\n"
     ]
    }
   ],
   "source": [
    "from difflib import get_close_matches\n",
    "\n",
    "kenpom_names = sorted(all_kenpom[\"TeamName\"].unique())\n",
    "\n",
    "for team in [\"N.C. State\", \"McNeese St.\", \"SIU Edwardsville\"]:\n",
    "    match = get_close_matches(team, kenpom_names, n=3)\n",
    "    print(f\"{team} → {match}\")\n"
   ]
  },
  {
   "cell_type": "code",
   "execution_count": 8,
   "id": "70a216cb-f2d4-423b-9acd-325a65accfb4",
   "metadata": {},
   "outputs": [
    {
     "name": "stdout",
     "output_type": "stream",
     "text": [
      "     Year       Team_1        Team_2\n",
      "23   2015   N.C. State           LSU\n",
      "40   2015   N.C. State     Villanova\n",
      "52   2015   Louisville    N.C. State\n",
      "220  2018   Seton Hall    N.C. State\n",
      "469  2023    Creighton    N.C. State\n",
      "524  2024   N.C. State    Texas Tech\n",
      "530  2024      Gonzaga   McNeese St.\n",
      "546  2024   N.C. State       Oakland\n",
      "557  2024   N.C. State     Marquette\n",
      "562  2024   N.C. State          Duke\n",
      "565  2024       Purdue    N.C. State\n",
      "570  2025      Houston  SIU Edwards.\n",
      "572  2025  McNeese St.       Clemson\n",
      "599  2025       Purdue   McNeese St.\n"
     ]
    }
   ],
   "source": [
    "problem_teams = [\"NC State\", \"N.C. State\", \"McNeese\", \"McNeese St.\", \"SIU Edwardsville\", \"SIU Edwards.\"]\n",
    "print(all_results.loc[\n",
    "    all_results[\"Team_1\"].isin(problem_teams) | all_results[\"Team_2\"].isin(problem_teams),\n",
    "    [\"Year\", \"Team_1\", \"Team_2\"]\n",
    "])"
   ]
  },
  {
   "cell_type": "code",
   "execution_count": 9,
   "id": "aace7365-ac79-4510-a055-50325635d60a",
   "metadata": {},
   "outputs": [
    {
     "name": "stdout",
     "output_type": "stream",
     "text": [
      "      Year          TeamName  seed     AdjEM\n",
      "162   2015       McNeese St.   NaN -11.01220\n",
      "485   2016       McNeese St.   NaN -16.38870\n",
      "864   2017       McNeese St.   NaN -14.07050\n",
      "1215  2018       McNeese St.   NaN -11.56930\n",
      "1566  2019       McNeese St.   NaN -16.55610\n",
      "1921  2021       McNeese St.   NaN -18.97320\n",
      "2278  2022       McNeese St.   NaN -12.88110\n",
      "2636  2023       McNeese St.   NaN -15.38330\n",
      "2999  2024       McNeese St.  12.0  12.86250\n",
      "1588  2019        N.C. State   NaN  16.69630\n",
      "1944  2021        N.C. State   NaN  11.66070\n",
      "2301  2022        N.C. State   NaN   2.55475\n",
      "2659  2023        N.C. State  11.0  13.30520\n",
      "3022  2024        N.C. State  11.0  13.05590\n",
      "3387  2025        N.C. State   NaN   3.77916\n",
      "259   2015  SIU Edwardsville   NaN  -7.57633\n",
      "493   2016  SIU Edwardsville   NaN -14.56580\n",
      "961   2017  SIU Edwardsville   NaN -14.14260\n",
      "1312  2018  SIU Edwardsville   NaN -13.66810\n",
      "1665  2019  SIU Edwardsville   NaN -16.48310\n",
      "2020  2021  SIU Edwardsville   NaN -14.46410\n",
      "2377  2022  SIU Edwardsville   NaN -11.11050\n",
      "2736  2023  SIU Edwardsville   NaN  -6.21117\n",
      "3100  2024  SIU Edwardsville   NaN  -9.51403\n"
     ]
    }
   ],
   "source": [
    "check_teams = [\"N.C. State\", \"McNeese St.\", \"SIU Edwardsville\"]\n",
    "\n",
    "print(all_kenpom.loc[\n",
    "    all_kenpom[\"TeamName\"].isin(check_teams),\n",
    "    [\"Year\", \"TeamName\", \"seed\", \"AdjEM\"]\n",
    "].sort_values([\"TeamName\", \"Year\"]))"
   ]
  },
  {
   "cell_type": "code",
   "execution_count": 10,
   "id": "278066d0-2832-4bf4-9dce-826aa0159688",
   "metadata": {},
   "outputs": [
    {
     "name": "stdout",
     "output_type": "stream",
     "text": [
      "---- Results.csv 2025 ----\n",
      "     Year        Round       Team_1       Team_2\n",
      "530  2024  Round of 64      Gonzaga  McNeese St.\n",
      "572  2025  Round of 64  McNeese St.      Clemson\n",
      "599  2025  Round of 32       Purdue  McNeese St.\n",
      "\n",
      "---- KenPom 2025 ----\n",
      "Empty DataFrame\n",
      "Columns: [Year, TeamName, seed, AdjEM]\n",
      "Index: []\n"
     ]
    }
   ],
   "source": [
    "print(\"---- Results.csv 2025 ----\")\n",
    "print(all_results.loc[\n",
    "    (all_results[\"Year\"] == 2025) &\n",
    "    (all_results[\"Team_1\"].isin([\"McNeese St.\", \"SIU Edwardsville\"])) |\n",
    "    (all_results[\"Team_2\"].isin([\"McNeese St.\", \"SIU Edwardsville\"])),\n",
    "    [\"Year\", \"Round\", \"Team_1\", \"Team_2\"]\n",
    "])\n",
    "\n",
    "print(\"\\n---- KenPom 2025 ----\")\n",
    "print(all_kenpom.loc[\n",
    "    (all_kenpom[\"Year\"] == 2025) &\n",
    "    (all_kenpom[\"TeamName\"].isin([\"McNeese St.\", \"SIU Edwardsville\"])),\n",
    "    [\"Year\", \"TeamName\", \"seed\", \"AdjEM\"]\n",
    "])"
   ]
  },
  {
   "cell_type": "code",
   "execution_count": 12,
   "id": "f28c4033-4280-4d64-a42d-db4b02847e6a",
   "metadata": {},
   "outputs": [],
   "source": [
    "team_name_fixes.update({\n",
    "    \"McNeese St.\": \"McNeese\",\n",
    "    \"SIU Edwardsville\": \"SIUE\"\n",
    "})"
   ]
  },
  {
   "cell_type": "code",
   "execution_count": 13,
   "id": "4d2e9bcb-1b43-4a31-92eb-2fe053437813",
   "metadata": {},
   "outputs": [
    {
     "name": "stdout",
     "output_type": "stream",
     "text": [
      "     Year        Round       Team_1       Team_2\n",
      "530  2024  Round of 64      Gonzaga  McNeese St.\n",
      "572  2025  Round of 64  McNeese St.      Clemson\n",
      "599  2025  Round of 32       Purdue  McNeese St.\n"
     ]
    }
   ],
   "source": [
    "print(all_results.loc[\n",
    "    (all_results[\"Year\"] == 2025) &\n",
    "    (all_results[\"Team_1\"].isin([\"McNeese\", \"SIUE\", \"McNeese St.\", \"SIU Edwardsville\"])) |\n",
    "    (all_results[\"Team_2\"].isin([\"McNeese\", \"SIUE\", \"McNeese St.\", \"SIU Edwardsville\"])),\n",
    "    [\"Year\", \"Round\", \"Team_1\", \"Team_2\"]\n",
    "])"
   ]
  },
  {
   "cell_type": "code",
   "execution_count": null,
   "id": "441e6d46-94c7-42bb-b92e-9ed0ae070fcd",
   "metadata": {},
   "outputs": [],
   "source": []
  }
 ],
 "metadata": {
  "kernelspec": {
   "display_name": "Python 3 (ipykernel)",
   "language": "python",
   "name": "python3"
  },
  "language_info": {
   "codemirror_mode": {
    "name": "ipython",
    "version": 3
   },
   "file_extension": ".py",
   "mimetype": "text/x-python",
   "name": "python",
   "nbconvert_exporter": "python",
   "pygments_lexer": "ipython3",
   "version": "3.13.5"
  }
 },
 "nbformat": 4,
 "nbformat_minor": 5
}
